{
 "cells": [
  {
   "cell_type": "code",
   "execution_count": 1,
   "id": "ac9ba671-b54a-444d-80e0-c83b1b318b36",
   "metadata": {},
   "outputs": [],
   "source": [
    "import folium\n",
    "import pandas as pd\n",
    "df=pd.read_csv('D:\\\\Dataset.csv')\n",
    "center_lat = df['Latitude'].mean()\n",
    "center_lon = df['Longitude'].mean()\n",
    "map=folium.Map(location=[center_lat, center_lon],tiles='stamenterrain', zoom_start=8,zoom_control=False)\n",
    "for index, row in df.iterrows():\n",
    "     folium.Marker([row['Latitude'],row['Longitude']],popup=row['Restaurant Name']).add_to(map)\n",
    "map.save('Resteraunt_Map.html')\n",
    "city_country_counts = df['City'].value_counts()\n",
    "plt.figure(figsize=(12, 6))\n",
    "city_country_counts.plot(kind='bar')\n",
    "plt.xlabel('Location')\n",
    "plt.ylabel('Number of Restaurants')\n",
    "plt.title('Distribution of Restaurants by Location')\n",
    "plt.show()\n",
    "corr_lat=df['Latitude'].corr(df['Aggregate rating'])\n",
    "corr_long=df['Latitude'].corr(df['Aggregate rating'])\n",
    "print(f\"Corr_lat is:{corr_lat}\")\n",
    "print(f\"Corr_long is:{corr_long}\")"
   ]
  }
 ],
 "metadata": {
  "kernelspec": {
   "display_name": "Python 3 (ipykernel)",
   "language": "python",
   "name": "python3"
  },
  "language_info": {
   "codemirror_mode": {
    "name": "ipython",
    "version": 3
   },
   "file_extension": ".py",
   "mimetype": "text/x-python",
   "name": "python",
   "nbconvert_exporter": "python",
   "pygments_lexer": "ipython3",
   "version": "3.12.0"
  }
 },
 "nbformat": 4,
 "nbformat_minor": 5
}
